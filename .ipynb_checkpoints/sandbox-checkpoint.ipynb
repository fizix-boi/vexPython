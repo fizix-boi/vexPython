{
 "cells": [
  {
   "cell_type": "code",
   "execution_count": 38,
   "id": "6a46282e",
   "metadata": {},
   "outputs": [],
   "source": [
    "import vpython as vp\n",
    "import numpy as np\n",
    "import math as mp\n",
    "\n",
    "import vpythonExtPrims as vpep\n",
    "import vpythonCamera as vpc\n",
    "import vpythonDemonCore as vpdc\n",
    "\n",
    "import matplotlib.pyplot as plt"
   ]
  },
  {
   "cell_type": "code",
   "execution_count": 39,
   "id": "8fde7c74",
   "metadata": {},
   "outputs": [],
   "source": [
    "def addNoise(signal, mag):\n",
    "    num = len(signal)\n",
    "    noise = 2 * mag * (np.random.random(num) - 0.5)\n",
    "    return(np.add(signal, noise))\n",
    "\n",
    "def wiggler(a, tf, num):\n",
    "    x = np.linspace(0, tf, num = num)\n",
    "    return(np.add((a / (2 * np.pi)) * np.cos((2 * np.pi * x) + (np.pi / 2)), x))\n",
    "\n",
    "def normedWiggler(a, tf, num):\n",
    "    wiggy = wiggler(a, tf, num)\n",
    "    return(wiggy / max(wiggy))"
   ]
  },
  {
   "cell_type": "code",
   "execution_count": null,
   "id": "4568df0a",
   "metadata": {},
   "outputs": [],
   "source": []
  },
  {
   "cell_type": "code",
   "execution_count": 43,
   "id": "cfc49d2d",
   "metadata": {},
   "outputs": [],
   "source": [
    "class scence_surroundingClosingCore:\n",
    "    def __init__(self, hdes):\n",
    "        self.scene = vpep.generateScene(hdes)\n",
    "        self.scene.ambient = vpc.ambientLinCom(0.25, 0, colorVector = vp.vector(0, 0, 0))\n",
    "\n",
    "        self.framer = vpc.globalFrames()\n",
    "\n",
    "        self.demonCore = vpdc.demonCoreExp(center = vp.vector(0, 5, 0))\n",
    "\n",
    "        self.canyon = vpdc.canyonWalls(100)\n",
    "        \n",
    "    def animate(self, filmy):\n",
    "        dt = 1/24\n",
    "        nump = int(5 / dt)\n",
    "\n",
    "        theta = 2 * vp.pi * normedWiggler(1, 5, nump)#np.power(np.linspace(0, 1, num = nump), 2.5)\n",
    "\n",
    "        tilt = vp.pi / 10\n",
    "        angleOrigin = self.demonCore.toggleCoreScrewdriver(tilt, 0, 1, not True, None, None)\n",
    "\n",
    "        self.scene.ambient = vpc.ambientLinCom(0.25, 0, colorVector = vp.vector(0, 0, 0))\n",
    "\n",
    "        posCen = vp.vector(0, 0, 0)\n",
    "        posCen.x = self.demonCore.base.pos.x\n",
    "        posCen.y = self.demonCore.base.pos.y + 0.2\n",
    "        posCen.z = self.demonCore.base.pos.z\n",
    "\n",
    "        pathx = (1 * np.array(list(map(np.sin, theta))) + posCen.x)\n",
    "        pathy = (1 * np.array(list(map(np.sin, theta))) + posCen.y)\n",
    "        pathz = (1 * np.array(list(map(np.cos, theta))) + posCen.z)\n",
    "\n",
    "        path = vpc.pathVectorize(pathx, pathy, pathz)\n",
    "\n",
    "        ranger = 3\n",
    "        vpc.moveFixedCamera(self.scene, path, posCen, dt, ranger, filming = filmy, framer = self.framer)\n",
    "        \n",
    "        if(filmy):\n",
    "            vpc.stillShot(self.scene, 24, self.framer)\n",
    "        \n",
    "        self.demonCore.toggleCoreScrewdriver(-tilt, dt, int(0.2 / dt), film = filmy, framer = self.framer, scene = self.scene)\n",
    "\n",
    "        self.scene.ambient = vpc.ambientLinCom(0.25, 0.4, colorVector = vp.vector(0, 1, 1))\n",
    "        \n",
    "        if(filmy):\n",
    "            vpc.stillShot(self.scene, 5, self.framer)\n",
    "        \n",
    "        rFinal = 1000\n",
    "        ranged = np.linspace(self.scene.range, rFinal, num = int(5/dt))\n",
    "        for rangeNow in ranged:\n",
    "            self.scene.range = rangeNow\n",
    "            vp.sleep(dt)\n",
    "            if(filmy):\n",
    "                vpc.stillShot(self.scene, 1, self.framer)\n"
   ]
  },
  {
   "cell_type": "code",
   "execution_count": 44,
   "id": "fe32e44b",
   "metadata": {
    "scrolled": false
   },
   "outputs": [
    {
     "data": {
      "text/html": [
       "<div id=\"glowscript\" class=\"glowscript\"></div>"
      ],
      "text/plain": [
       "<IPython.core.display.HTML object>"
      ]
     },
     "metadata": {},
     "output_type": "display_data"
    },
    {
     "data": {
      "application/javascript": [
       "if (typeof Jupyter !== \"undefined\") { window.__context = { glowscript_container: $(\"#glowscript\").removeAttr(\"id\")};}else{ element.textContent = ' ';}"
      ],
      "text/plain": [
       "<IPython.core.display.Javascript object>"
      ]
     },
     "metadata": {},
     "output_type": "display_data"
    }
   ],
   "source": [
    "scene = scence_surroundingClosingCore(1000)\n",
    "scene.animate(True)"
   ]
  },
  {
   "cell_type": "code",
   "execution_count": null,
   "id": "30ec1859",
   "metadata": {},
   "outputs": [],
   "source": []
  },
  {
   "cell_type": "code",
   "execution_count": null,
   "id": "716a5aae",
   "metadata": {},
   "outputs": [],
   "source": []
  }
 ],
 "metadata": {
  "kernelspec": {
   "display_name": "Python 3 (ipykernel)",
   "language": "python",
   "name": "python3"
  },
  "language_info": {
   "codemirror_mode": {
    "name": "ipython",
    "version": 3
   },
   "file_extension": ".py",
   "mimetype": "text/x-python",
   "name": "python",
   "nbconvert_exporter": "python",
   "pygments_lexer": "ipython3",
   "version": "3.9.13"
  }
 },
 "nbformat": 4,
 "nbformat_minor": 5
}
